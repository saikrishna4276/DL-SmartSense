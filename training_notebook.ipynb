{
 "cells": [
  {
   "cell_type": "markdown",
   "metadata": {
    "id": "_sAjTSIlqbEf"
   },
   "source": [
    "#  Facial Recognition for One-shot Image Recognition"
   ]
  },
  {
   "cell_type": "markdown",
   "metadata": {
    "id": "WJ0K9It7qbEs"
   },
   "source": [
    "  "
   ]
  },
  {
   "cell_type": "markdown",
   "metadata": {},
   "source": [
    "## import libraries"
   ]
  },
  {
   "cell_type": "code",
   "execution_count": 1,
   "metadata": {
    "id": "0HD5E64sh-aD"
   },
   "outputs": [],
   "source": [
    "# Import standard dependencies\n",
    "import cv2\n",
    "import os\n",
    "import numpy as np\n",
    "from matplotlib import pyplot as plt\n",
    "# Import tensorflow dependencies - Functional API\n",
    "from tensorflow.keras.models import Model\n",
    "from tensorflow.keras.layers import Layer, Conv2D, Dense, MaxPooling2D, Input, Flatten\n",
    "import tensorflow as tf\n",
    "import shutil"
   ]
  },
  {
   "cell_type": "code",
   "execution_count": 2,
   "metadata": {
    "colab": {
     "base_uri": "https://localhost:8080/"
    },
    "id": "DhF2rHgNYdfC",
    "outputId": "e8fae2e7-08f0-490d-c8e9-cd9d2015ed32"
   },
   "outputs": [
    {
     "name": "stdout",
     "output_type": "stream",
     "text": [
      "2.14.0\n"
     ]
    }
   ],
   "source": [
    "print(tf.__version__)"
   ]
  },
  {
   "cell_type": "markdown",
   "metadata": {
    "id": "8s2lR_5fh-aI"
   },
   "source": [
    "## 1.3 Create Folder Structures for storing Dataset"
   ]
  },
  {
   "cell_type": "code",
   "execution_count": 11,
   "metadata": {},
   "outputs": [
    {
     "name": "stdout",
     "output_type": "stream",
     "text": [
      "/home/avulasaikrishna/DL\n"
     ]
    }
   ],
   "source": [
    "!pwd"
   ]
  },
  {
   "cell_type": "code",
   "execution_count": 3,
   "metadata": {
    "id": "1yNODhFFh-aK"
   },
   "outputs": [],
   "source": [
    "# Set paths of directories\n",
    "os.mkdir('dataset')\n",
    "TRUE_PATH = os.path.join('dataset', 'true_images')\n",
    "FALSE_PATH = os.path.join('dataset', 'false_images')\n",
    "INPUT_PATH = os.path.join('dataset', 'input_images')"
   ]
  },
  {
   "cell_type": "code",
   "execution_count": 4,
   "metadata": {
    "id": "Dc4UfJsph-aL"
   },
   "outputs": [],
   "source": [
    "# Make the directories\n",
    "os.makedirs(TRUE_PATH)\n",
    "os.makedirs(FALSE_PATH)\n",
    "os.makedirs(INPUT_PATH)"
   ]
  },
  {
   "cell_type": "markdown",
   "metadata": {
    "id": "WL0jkm7sh-aM"
   },
   "source": [
    "## 1.4 Collect Dataset (True, False, and Input Images)"
   ]
  },
  {
   "cell_type": "code",
   "execution_count": 5,
   "metadata": {},
   "outputs": [
    {
     "name": "stderr",
     "output_type": "stream",
     "text": [
      "'unzip' is not recognized as an internal or external command,\n",
      "operable program or batch file.\n"
     ]
    }
   ],
   "source": [
    "!unzip images.zip #unzip the images.zip dataset"
   ]
  },
  {
   "cell_type": "markdown",
   "metadata": {
    "id": "xuma4K85h-aN"
   },
   "source": [
    "#### 1.4.1 False_Images-\n",
    "1. we put images of images/Colin_Powell into false_image. False_image directory contains the images which will not be seen by model for training purpose."
   ]
  },
  {
   "cell_type": "markdown",
   "metadata": {},
   "source": [
    "#### True_images, input_images and false_images:\n",
    " True images are for the validation of the input images, that means: are these images similar to the images inside the true images folder. \n",
    " False images are validating that the input images are dissimilar to the images inside the False images folder. And the label corresponds to the input image and false images will be 0 because of their dissimilarity."
   ]
  },
  {
   "cell_type": "code",
   "execution_count": 10,
   "metadata": {
    "id": "gvlYTZ6uqbFE"
   },
   "outputs": [
    {
     "name": "stdout",
     "output_type": "stream",
     "text": [
      "Ariel_Sharon\n",
      "Arnold_Schwarzenegger\n",
      "BIM2016002\n",
      "Donald_Rumsfeld\n",
      "George_W_Bush\n",
      "Gerhard_Schroeder\n",
      "Hugo_Chavez\n",
      "IHM2016005\n",
      "IIT2016044\n",
      "IIT2016135\n",
      "ITM2016007\n",
      "Jacques_Chirac\n",
      "Tony_Blair\n",
      "Vladimir_Putin\n"
     ]
    }
   ],
   "source": [
    "#transfer images from images directory to dataset/false_images directory\n",
    "path = 'images'\n",
    "for folder in os.listdir(path):\n",
    "    if folder != 'Colin_Powell':\n",
    "        print(folder)\n",
    "        for img_file in os.listdir(os.path.join(path,folder)):\n",
    "            CURRENT_PATH= os.path.join(path, folder, img_file)\n",
    "            NEW_PATH = os.path.join(FALSE_PATH, img_file)\n",
    "            shutil.copy(CURRENT_PATH, NEW_PATH)\n",
    "    else: #transfer images from images directory to dataset/input_images and dataset/true_images directory\n",
    "        for img_file in os.listdir(os.path.join(path,folder)):\n",
    "            CURRENT_PATH= os.path.join(path, folder, img_file)\n",
    "            NEW_PATH1 = os.path.join(TRUE_PATH, img_file)\n",
    "            NEW_PATH2 = os.path.join(INPUT_PATH, img_file)\n",
    "            shutil.copy(CURRENT_PATH, NEW_PATH1)\n",
    "            shutil.copy(CURRENT_PATH, NEW_PATH2)"
   ]
  },
  {
   "cell_type": "code",
   "execution_count": 11,
   "metadata": {
    "id": "Za-n3XclqbFF",
    "outputId": "7bebcf6a-09d4-404f-b39c-612b693a30bf"
   },
   "outputs": [
    {
     "data": {
      "text/plain": [
       "(140, 20)"
      ]
     },
     "execution_count": 11,
     "metadata": {},
     "output_type": "execute_result"
    }
   ],
   "source": [
    "#total number of images - \n",
    "len(os.listdir(FALSE_PATH)), len(INPUT_PATH)"
   ]
  },
  {
   "cell_type": "markdown",
   "metadata": {
    "id": "iEKes9k_h-aR"
   },
   "source": [
    "#### 1.4.2 Collect True and Input Images-"
   ]
  },
  {
   "cell_type": "code",
   "execution_count": 14,
   "metadata": {
    "id": "ChUvnjUEh-aS"
   },
   "outputs": [],
   "source": [
    "# library to generate unique image names\n",
    "import uuid"
   ]
  },
  {
   "cell_type": "code",
   "execution_count": 28,
   "metadata": {
    "id": "wKuNh7P9h-aS",
    "outputId": "a89866fe-9abc-4393-fd03-d2438d1b780d"
   },
   "outputs": [
    {
     "data": {
      "text/plain": [
       "'dataset/true_images/a18bd3ba-5dec-11ee-8e9e-ac1f6bc3ce4e.jpg'"
      ]
     },
     "execution_count": 28,
     "metadata": {},
     "output_type": "execute_result"
    }
   ],
   "source": [
    "#os.path.join(ANC_PATH, '{}.jpg'.format(uuid.uuid1()))\n",
    "os.path.join(TRUE_PATH, f\"{uuid.uuid1()}.jpg\")"
   ]
  },
  {
   "cell_type": "markdown",
   "metadata": {
    "id": "sKschysuqbFO"
   },
   "source": [
    "## 1.5 data agumentation\n",
    "1. a technique to increase the diversity of your training set by applying random (but realistic) transformations.\n",
    "2. The `tf.image` module contains various functions for image processing and decoding-encoding Ops.\n",
    "    1. Adjust the brightness of images by a random factor deterministically.\n",
    "    2. Adjust the contrast of images by a random factor deterministically.\n",
    "    3. Randomly flip an image horizontally (left to right) deterministically.\n",
    "    4. Randomly changes jpeg encoding quality for inducing jpeg noise\n",
    "    5. Adjust the saturation of RGB images by a random factor deterministically.\n",
    "    \n",
    "    seed-Guarantees the same results given the same seed independent of how many times the function is called\n"
   ]
  },
  {
   "cell_type": "code",
   "execution_count": 9,
   "metadata": {
    "id": "yRlRlyE5qbFP"
   },
   "outputs": [],
   "source": [
    "def data_aug(img):\n",
    "  data = []\n",
    "  for i in range(9):\n",
    "    img = tf.image.stateless_random_brightness(img, max_delta=0.02, seed=(1,2))\n",
    "    img = tf.image.stateless_random_contrast(img, lower=0.6,upper= 1, seed=(1,3))\n",
    "    img = tf.image.stateless_random_flip_left_right(img, seed = (np.random.randint(100),np.random.randint(100)))\n",
    "    img = tf.image.stateless_random_jpeg_quality(img, min_jpeg_quality=90,max_jpeg_quality=100, seed = (np.random.randint(100),np.random.randint(100)))\n",
    "    img = tf.image.stateless_random_saturation(img, lower=0.9, upper=1,seed = (np.random.randint(100),np.random.randint(100)))\n",
    "\n",
    "    data.append(img)\n",
    "\n",
    "  return data\n",
    "                                                                                                                                              "
   ]
  },
  {
   "cell_type": "code",
   "execution_count": 12,
   "metadata": {
    "collapsed": true,
    "id": "Gel-EMZlqbFP",
    "outputId": "3c266b68-c274-4923-9f0c-46d4f0c9435b"
   },
   "outputs": [
    {
     "name": "stdout",
     "output_type": "stream",
     "text": [
      "dataset\\input_images\\Colin_Powell_0001.jpg\n",
      "dataset\\input_images\\Colin_Powell_0002.jpg\n",
      "dataset\\input_images\\Colin_Powell_0003.jpg\n",
      "dataset\\input_images\\Colin_Powell_0004.jpg\n",
      "dataset\\input_images\\Colin_Powell_0005.jpg\n",
      "dataset\\input_images\\Colin_Powell_0006.jpg\n",
      "dataset\\input_images\\Colin_Powell_0007.jpg\n",
      "dataset\\input_images\\Colin_Powell_0008.jpg\n",
      "dataset\\input_images\\Colin_Powell_0009.jpg\n",
      "dataset\\input_images\\Colin_Powell_0010.jpg\n"
     ]
    }
   ],
   "source": [
    "#printing all the files in input_images\n",
    "for file_name in os.listdir(os.path.join(INPUT_PATH)):\n",
    "    img_path = os.path.join(INPUT_PATH, file_name)\n",
    "    print(img_path)"
   ]
  },
  {
   "cell_type": "code",
   "execution_count": 15,
   "metadata": {
    "id": "oNeBYdaAqbFR"
   },
   "outputs": [],
   "source": [
    "#input images augumentation\n",
    "for file_name in os.listdir(os.path.join(INPUT_PATH)):\n",
    "    img_path = os.path.join(INPUT_PATH, file_name)\n",
    "    img = cv2.imread(img_path)\n",
    "    aug_imgs = data_aug(img)\n",
    "\n",
    "    for image in aug_imgs:\n",
    "        cv2.imwrite(os.path.join(INPUT_PATH, '{}.jpg'.format(uuid.uuid1())), image.numpy())\n",
    "    "
   ]
  },
  {
   "cell_type": "code",
   "execution_count": 16,
   "metadata": {
    "id": "eC0OCnPlqbFS"
   },
   "outputs": [],
   "source": [
    "#true images augumentation\n",
    "for file_name in os.listdir(os.path.join(TRUE_PATH)):\n",
    "    img_path = os.path.join(TRUE_PATH, file_name)\n",
    "    img = cv2.imread(img_path)\n",
    "    aug_imgs = data_aug(img)\n",
    "\n",
    "    for image in aug_imgs:\n",
    "        cv2.imwrite(os.path.join(TRUE_PATH, '{}.jpg'.format(uuid.uuid1())), image.numpy())"
   ]
  },
  {
   "cell_type": "markdown",
   "metadata": {
    "id": "5e2XTzzNh-aV"
   },
   "source": [
    "## 3.1 Get Image Directories with Data API of tensorflow"
   ]
  },
  {
   "cell_type": "code",
   "execution_count": 17,
   "metadata": {},
   "outputs": [],
   "source": [
    "input_fileset = tf.data.Dataset.list_files(INPUT_PATH+'/*.jpg').take(20)\n",
    "true_fileset= tf.data.Dataset.list_files(TRUE_PATH+'/*.jpg').take(20)\n",
    "false_fileset = tf.data.Dataset.list_files(FALSE_PATH+'/*.jpg').take(20)"
   ]
  },
  {
   "cell_type": "code",
   "execution_count": 18,
   "metadata": {
    "id": "gWMRRzBKh-aW"
   },
   "outputs": [],
   "source": [
    "input_fileset = tf.data.Dataset.list_files(INPUT_PATH+'/*.jpg').take(2000)\n",
    "true_fileset= tf.data.Dataset.list_files(TRUE_PATH+'/*.jpg').take(2000)\n",
    "false_fileset = tf.data.Dataset.list_files(FALSE_PATH+'/*.jpg').take(2000)"
   ]
  },
  {
   "cell_type": "code",
   "execution_count": 19,
   "metadata": {
    "colab": {
     "base_uri": "https://localhost:8080/"
    },
    "id": "sud3E50tqbFU",
    "outputId": "33d0ffd2-4ca7-49c2-f47a-8cd7cc0c5477"
   },
   "outputs": [
    {
     "data": {
      "text/plain": [
       "(<_TakeDataset element_spec=TensorSpec(shape=(), dtype=tf.string, name=None)>,\n",
       " <_TakeDataset element_spec=TensorSpec(shape=(), dtype=tf.string, name=None)>,\n",
       " <_TakeDataset element_spec=TensorSpec(shape=(), dtype=tf.string, name=None)>)"
      ]
     },
     "execution_count": 19,
     "metadata": {},
     "output_type": "execute_result"
    }
   ],
   "source": [
    "input_fileset,true_fileset,false_fileset"
   ]
  },
  {
   "cell_type": "code",
   "execution_count": 20,
   "metadata": {
    "id": "LxwI4oSVh-aW"
   },
   "outputs": [],
   "source": [
    "dir_test = input_fileset.as_numpy_iterator()"
   ]
  },
  {
   "cell_type": "code",
   "execution_count": 21,
   "metadata": {
    "colab": {
     "base_uri": "https://localhost:8080/"
    },
    "id": "km-Ek_bCh-aX",
    "outputId": "d54a7d12-79dd-4b67-8f55-bf704dc7f417"
   },
   "outputs": [
    {
     "name": "stdout",
     "output_type": "stream",
     "text": [
      "b'dataset\\\\input_images\\\\9888ff2c-5e02-11ee-872c-c8e5615eb605.jpg'\n"
     ]
    }
   ],
   "source": [
    "print(dir_test.next())"
   ]
  },
  {
   "cell_type": "markdown",
   "metadata": {
    "id": "S50XLYmgh-aX"
   },
   "source": [
    "## 3.2 Accessing Image files and Preprocessing - Scale and Resize"
   ]
  },
  {
   "cell_type": "code",
   "execution_count": 22,
   "metadata": {
    "id": "Tsex4RzZh-aY"
   },
   "outputs": [],
   "source": [
    "def access_imgfiles_and_preprocess(file_path):\n",
    "    \n",
    "    # Read in image from file path( retrun the content of file as tensor)\n",
    "    byte_img = tf.io.read_file(file_path)\n",
    "    \n",
    "    # Load in the image (Decode a JPEG-encoded image to a uint8 tensor.)\n",
    "    img = tf.io.decode_jpeg(byte_img)\n",
    "    \n",
    "    # Preprocessing steps - resizing the image to be 105x105x3\n",
    "    img = tf.image.resize(img, (105,105))\n",
    "    # Scale image to be between 0 and 1 \n",
    "    img = img / 255.0\n",
    "    \n",
    "    # Return image\n",
    "    return img"
   ]
  },
  {
   "cell_type": "markdown",
   "metadata": {
    "id": "Ct02CE66h-aa"
   },
   "source": [
    "## 3.3 Create Labelled Dataset"
   ]
  },
  {
   "cell_type": "code",
   "execution_count": 21,
   "metadata": {
    "id": "9kSDmXFGh-aa"
   },
   "outputs": [],
   "source": [
    "# (input_images, true_images) => 1,1,1,1,1\n",
    "# (input_images, false_images) => 0,0,0,0,0"
   ]
  },
  {
   "cell_type": "code",
   "execution_count": 23,
   "metadata": {
    "id": "q-kHr83Qh-ab"
   },
   "outputs": [],
   "source": [
    "trueset = tf.data.Dataset.zip((input_fileset, true_fileset, tf.data.Dataset.from_tensor_slices(tf.ones(len(input_fileset)))))\n",
    "falseset = tf.data.Dataset.zip((input_fileset, false_fileset, tf.data.Dataset.from_tensor_slices(tf.zeros(len(input_fileset)))))\n",
    "dataset = trueset.concatenate(falseset)"
   ]
  },
  {
   "cell_type": "markdown",
   "metadata": {
    "id": "2eXrzm6eh-ad"
   },
   "source": [
    "## 3.4 Build Train and Test Partition after Preprocessing"
   ]
  },
  {
   "cell_type": "code",
   "execution_count": 24,
   "metadata": {
    "id": "w6WBL3xoh-ad"
   },
   "outputs": [],
   "source": [
    "def preprocess_dataset(input_file, validation_file, label):\n",
    "    return(access_imgfiles_and_preprocess(input_file), access_imgfiles_and_preprocess(validation_file), label)"
   ]
  },
  {
   "cell_type": "code",
   "execution_count": 25,
   "metadata": {
    "id": "UVFOMBhPh-ag"
   },
   "outputs": [],
   "source": [
    "# Build dataloader pipeline\n",
    "dataset = dataset.map(preprocess_dataset)\n",
    "dataset = dataset.cache()\n",
    "dataset = dataset.shuffle(buffer_size=8000)"
   ]
  },
  {
   "cell_type": "code",
   "execution_count": 26,
   "metadata": {
    "id": "wSKNyqcKh-ag"
   },
   "outputs": [],
   "source": [
    "# Training partition\n",
    "train_data = dataset.take(round(len(dataset)*.7))\n",
    "train_data = train_data.batch(16)\n",
    "train_data = train_data.prefetch(8)"
   ]
  },
  {
   "cell_type": "code",
   "execution_count": 27,
   "metadata": {
    "id": "60gw1qS3h-ag"
   },
   "outputs": [],
   "source": [
    "# Testing partition\n",
    "test_data = dataset.skip(round(len(dataset)*.7))\n",
    "test_data = test_data.take(round(len(dataset)*.3))\n",
    "test_data = test_data.batch(16)\n",
    "test_data = test_data.prefetch(8)"
   ]
  },
  {
   "cell_type": "markdown",
   "metadata": {
    "id": "qcTWoQP7h-ah"
   },
   "source": [
    "## 4. Model Construction and Training "
   ]
  },
  {
   "cell_type": "markdown",
   "metadata": {},
   "source": [
    "### Using Subclass API for Modeling"
   ]
  },
  {
   "cell_type": "code",
   "execution_count": 28,
   "metadata": {
    "id": "CHbK3GUYqbFa"
   },
   "outputs": [],
   "source": [
    "class CustomModel(Model):\n",
    "    pass"
   ]
  },
  {
   "cell_type": "markdown",
   "metadata": {},
   "source": [
    "### Customizing Training Steps "
   ]
  },
  {
   "cell_type": "code",
   "execution_count": 29,
   "metadata": {
    "id": "vUs6SmjVqbFa"
   },
   "outputs": [],
   "source": [
    "class CustomModel(Model):\n",
    "    def train_step(self, batch):\n",
    "        # Unpack the data. Its structure depends on your model and\n",
    "        # on what you pass to `fit()`.\n",
    "        #x, y = data\n",
    "        x = batch[:2]\n",
    "        # Get label\n",
    "        y = batch[2]\n",
    "\n",
    "        with tf.GradientTape() as tape:\n",
    "            y_pred = self(x, training=True)  # Forward pass\n",
    "            # Compute the loss value\n",
    "            # (the loss function is configured in `compile()`)\n",
    "            loss = self.compiled_loss(y, y_pred, regularization_losses=self.losses)\n",
    "\n",
    "        # Compute gradients\n",
    "        trainable_vars = self.trainable_variables\n",
    "        gradients = tape.gradient(loss, trainable_vars)\n",
    "        # Update weights\n",
    "        self.optimizer.apply_gradients(zip(gradients, trainable_vars))\n",
    "        # Update metrics (includes the metric that tracks the loss)\n",
    "        self.compiled_metrics.update_state(y, y_pred)\n",
    "        # Return a dict mapping metric names to current value\n",
    "        return {m.name: m.result() for m in self.metrics}"
   ]
  },
  {
   "cell_type": "markdown",
   "metadata": {
    "id": "fR-n0KbDh-ah"
   },
   "source": [
    "## 4.1 Build Embedding Layer"
   ]
  },
  {
   "cell_type": "code",
   "execution_count": 30,
   "metadata": {
    "id": "0pBpeoSFqbFb"
   },
   "outputs": [],
   "source": [
    "def build_initial_model_layers(): \n",
    "    inp = Input(shape=(105,105,3), name='input_image')\n",
    "    \n",
    "    # First block\n",
    "    c1 = Conv2D(64, (10,10), activation='relu')(inp)\n",
    "    m1 = MaxPooling2D(64, (2,2), padding='same')(c1)\n",
    "    \n",
    "    # Second block\n",
    "    c2 = Conv2D(128, (7,7), activation='relu')(m1)\n",
    "    m2 = MaxPooling2D(64, (2,2), padding='same')(c2)\n",
    "    \n",
    "    # Third block \n",
    "    c3 = Conv2D(128, (4,4), activation='relu')(m2)\n",
    "    m3 = MaxPooling2D(64, (2,2), padding='same')(c3)\n",
    "    \n",
    "    # Final embedding block\n",
    "    c4 = Conv2D(256, (4,4), activation='relu')(m3)\n",
    "    \n",
    "    f1 = Flatten()(c4)\n",
    "    d1 = Dense(4096, activation='sigmoid')(f1)\n",
    "    \n",
    "    \n",
    "    return CustomModel(inputs=[inp], outputs=[d1], name='embedding')"
   ]
  },
  {
   "cell_type": "code",
   "execution_count": 31,
   "metadata": {
    "id": "wXYsiCQdqbFc"
   },
   "outputs": [],
   "source": [
    "embedding = build_initial_model_layers()"
   ]
  },
  {
   "cell_type": "markdown",
   "metadata": {
    "id": "AvvA6jPch-al"
   },
   "source": [
    "## 4.2 Build Distance Layer"
   ]
  },
  {
   "cell_type": "code",
   "execution_count": 32,
   "metadata": {
    "id": "zhwFQR9_h-am"
   },
   "outputs": [],
   "source": [
    "# Siamese L1 Distance class\n",
    "class DistanceLayer(Layer):\n",
    "    \n",
    "    # Init method - inheritance\n",
    "    def __init__(self, **kwargs):\n",
    "        super().__init__()\n",
    "       \n",
    "    # Magic happens here - similarity calculation\n",
    "    def call(self, input_embedding, validation_embedding):\n",
    "        return tf.math.abs(input_embedding - validation_embedding)"
   ]
  },
  {
   "cell_type": "markdown",
   "metadata": {
    "id": "TxUIA1YBh-an"
   },
   "source": [
    "## 4.3 Make Siamese Model"
   ]
  },
  {
   "cell_type": "code",
   "execution_count": 33,
   "metadata": {
    "id": "hSufMQqah-aq"
   },
   "outputs": [],
   "source": [
    "def make_siamese_model(): \n",
    "    \n",
    "    # Anchor image input in the network\n",
    "    input_image = Input(name='input_img', shape=(105,105,3))\n",
    "    \n",
    "    # Validation image in the network \n",
    "    validation_image = Input(name='validation_img', shape=(105,105,3))\n",
    "    \n",
    "    embedding = build_initial_model_layers()\n",
    "    # Combine siamese distance components\n",
    "    siamese_layer = DistanceLayer()\n",
    "    siamese_layer._name = 'distance'\n",
    "    distances = siamese_layer(embedding(input_image), embedding(validation_image))\n",
    "    \n",
    "    # Classification layer \n",
    "    classifier = Dense(1, activation='sigmoid')(distances)\n",
    "    \n",
    "    return CustomModel(inputs=[input_image, validation_image], outputs=classifier, name='SiameseNetwork')"
   ]
  },
  {
   "cell_type": "code",
   "execution_count": 34,
   "metadata": {
    "id": "PNyLfhwih-ar"
   },
   "outputs": [],
   "source": [
    "model = make_siamese_model()"
   ]
  },
  {
   "cell_type": "code",
   "execution_count": 35,
   "metadata": {
    "colab": {
     "base_uri": "https://localhost:8080/"
    },
    "id": "_KNosLkzh-ar",
    "outputId": "01705b00-564e-47ae-ec23-47065355249b"
   },
   "outputs": [
    {
     "name": "stdout",
     "output_type": "stream",
     "text": [
      "Model: \"SiameseNetwork\"\n",
      "__________________________________________________________________________________________________\n",
      " Layer (type)                Output Shape                 Param #   Connected to                  \n",
      "==================================================================================================\n",
      " input_img (InputLayer)      [(None, 105, 105, 3)]        0         []                            \n",
      "                                                                                                  \n",
      " validation_img (InputLayer  [(None, 105, 105, 3)]        0         []                            \n",
      " )                                                                                                \n",
      "                                                                                                  \n",
      " embedding (CustomModel)     (None, 4096)                 3896044   ['input_img[0][0]',           \n",
      "                                                          8          'validation_img[0][0]']      \n",
      "                                                                                                  \n",
      " distance (DistanceLayer)    (None, 4096)                 0         ['embedding[0][0]',           \n",
      "                                                                     'embedding[1][0]']           \n",
      "                                                                                                  \n",
      " dense_2 (Dense)             (None, 1)                    4097      ['distance[0][0]']            \n",
      "                                                                                                  \n",
      "==================================================================================================\n",
      "Total params: 38964545 (148.64 MB)\n",
      "Trainable params: 38964545 (148.64 MB)\n",
      "Non-trainable params: 0 (0.00 Byte)\n",
      "__________________________________________________________________________________________________\n"
     ]
    }
   ],
   "source": [
    "model.summary()"
   ]
  },
  {
   "cell_type": "markdown",
   "metadata": {
    "id": "nkn4YBKih-ar"
   },
   "source": [
    "# 5. Training"
   ]
  },
  {
   "cell_type": "markdown",
   "metadata": {
    "id": "0ICA6jbFh-as"
   },
   "source": [
    "## 5.1 Setup Loss and Optimizer"
   ]
  },
  {
   "cell_type": "code",
   "execution_count": 36,
   "metadata": {
    "id": "7xQ9nN13h-as"
   },
   "outputs": [],
   "source": [
    "binary_cross_loss = tf.losses.BinaryCrossentropy()"
   ]
  },
  {
   "cell_type": "code",
   "execution_count": 37,
   "metadata": {
    "id": "JJ9o6Ihch-as"
   },
   "outputs": [],
   "source": [
    "opt = tf.keras.optimizers.Adam(1e-4) # 0.0001"
   ]
  },
  {
   "cell_type": "markdown",
   "metadata": {
    "id": "u9RgcvG2h-at"
   },
   "source": [
    "## 5.2 Establish Checkpoints"
   ]
  },
  {
   "cell_type": "code",
   "execution_count": 38,
   "metadata": {
    "id": "FDQPkh37h-at"
   },
   "outputs": [],
   "source": [
    "from keras.callbacks import ModelCheckpoint\n",
    "checkpointer = ModelCheckpoint('frmoidel.weights.best.hdf5')"
   ]
  },
  {
   "cell_type": "markdown",
   "metadata": {
    "id": "Lz6egmTPqbFh"
   },
   "source": [
    "## complie the model"
   ]
  },
  {
   "cell_type": "code",
   "execution_count": 39,
   "metadata": {
    "id": "-iT_EGu2qbFi"
   },
   "outputs": [],
   "source": [
    "model.compile(optimizer=opt, loss=binary_cross_loss)"
   ]
  },
  {
   "cell_type": "markdown",
   "metadata": {
    "id": "9s-rY0jAqbFi"
   },
   "source": [
    "## strat trainig loop"
   ]
  },
  {
   "cell_type": "code",
   "execution_count": 40,
   "metadata": {
    "colab": {
     "base_uri": "https://localhost:8080/"
    },
    "id": "DgJoC_yVqbFj",
    "outputId": "0cba8b67-543d-4cb0-ddc4-98191fff5aaa"
   },
   "outputs": [
    {
     "name": "stdout",
     "output_type": "stream",
     "text": [
      "Epoch 1/5\n",
      "3/9 [=========>....................] - ETA: 1:23 - loss: 0.6959"
     ]
    },
    {
     "ename": "",
     "evalue": "",
     "output_type": "error",
     "traceback": [
      "\u001b[1;31mThe Kernel crashed while executing code in the the current cell or a previous cell. Please review the code in the cell(s) to identify a possible cause of the failure. Click <a href='https://aka.ms/vscodeJupyterKernelCrash'>here</a> for more info. View Jupyter <a href='command:jupyter.viewOutput'>log</a> for further details."
     ]
    }
   ],
   "source": [
    "model.fit(train_data, epochs=5) #did only for 5 epochs, can be further increased for proper accuracy"
   ]
  },
  {
   "cell_type": "markdown",
   "metadata": {
    "id": "a3OCAfS9h-a0"
   },
   "source": [
    "# 6. Evaluate Model"
   ]
  },
  {
   "cell_type": "markdown",
   "metadata": {
    "id": "1JsfVibnh-a0"
   },
   "source": [
    "## 6.1 Import Metrics"
   ]
  },
  {
   "cell_type": "code",
   "execution_count": 71,
   "metadata": {
    "id": "H_jUKluth-a0"
   },
   "outputs": [],
   "source": [
    "# Import metric calculations\n",
    "from tensorflow.keras.metrics import Precision, Recall"
   ]
  },
  {
   "cell_type": "markdown",
   "metadata": {
    "id": "Kw2GyqMVh-a1"
   },
   "source": [
    "## 6.2 Make Predictions"
   ]
  },
  {
   "cell_type": "code",
   "execution_count": 72,
   "metadata": {
    "id": "AfIe52g5h-a1"
   },
   "outputs": [],
   "source": [
    "# Get a batch of test data\n",
    "test_input, test_val, y_true = test_data.as_numpy_iterator().next()"
   ]
  },
  {
   "cell_type": "code",
   "execution_count": 73,
   "metadata": {
    "colab": {
     "base_uri": "https://localhost:8080/"
    },
    "id": "x2L793rQh-a1",
    "outputId": "37d4dbf2-58f2-450a-ba0d-b76b699aba39"
   },
   "outputs": [
    {
     "name": "stdout",
     "output_type": "stream",
     "text": [
      "1/1 [==============================] - 0s 299ms/step\n"
     ]
    },
    {
     "data": {
      "text/plain": [
       "array([[0.9919672 ],\n",
       "       [0.99942   ],\n",
       "       [0.99995404],\n",
       "       [0.99961436],\n",
       "       [0.85480964],\n",
       "       [0.994517  ],\n",
       "       [0.81718236],\n",
       "       [0.99889964],\n",
       "       [0.9997084 ],\n",
       "       [0.9184442 ],\n",
       "       [0.9999192 ],\n",
       "       [0.9998194 ],\n",
       "       [0.9999352 ],\n",
       "       [0.80713356],\n",
       "       [0.65938693],\n",
       "       [0.9999376 ]], dtype=float32)"
      ]
     },
     "execution_count": 73,
     "metadata": {},
     "output_type": "execute_result"
    }
   ],
   "source": [
    "# Make predictions\n",
    "y_hat = model.predict([test_input, test_val])\n",
    "y_hat"
   ]
  },
  {
   "cell_type": "code",
   "execution_count": 74,
   "metadata": {
    "colab": {
     "base_uri": "https://localhost:8080/"
    },
    "id": "HpAQLedKh-a2",
    "outputId": "a29f562a-9e47-4817-a930-98f05ba76a46"
   },
   "outputs": [
    {
     "data": {
      "text/plain": [
       "[1, 1, 1, 1, 1, 1, 1, 1, 1, 1, 1, 1, 1, 1, 1, 1]"
      ]
     },
     "execution_count": 74,
     "metadata": {},
     "output_type": "execute_result"
    }
   ],
   "source": [
    "# Post processing the results \n",
    "y_pred = [1 if prediction > 0.5 else 0 for prediction in y_hat ]\n",
    "y_pred"
   ]
  },
  {
   "cell_type": "code",
   "execution_count": 75,
   "metadata": {
    "colab": {
     "base_uri": "https://localhost:8080/"
    },
    "id": "2BKSjqJsh-a2",
    "outputId": "46982d45-2b8a-4405-a402-88249ace8121"
   },
   "outputs": [
    {
     "data": {
      "text/plain": [
       "array([1., 1., 1., 1., 1., 1., 1., 1., 1., 1., 1., 1., 1., 0., 1., 1.],\n",
       "      dtype=float32)"
      ]
     },
     "execution_count": 75,
     "metadata": {},
     "output_type": "execute_result"
    }
   ],
   "source": [
    "y_true"
   ]
  },
  {
   "cell_type": "markdown",
   "metadata": {
    "id": "OZvKjIHWh-a3"
   },
   "source": [
    "## 6.3 Calculate Metrics"
   ]
  },
  {
   "cell_type": "code",
   "execution_count": 76,
   "metadata": {
    "colab": {
     "base_uri": "https://localhost:8080/"
    },
    "id": "Zkov-XG8h-a3",
    "outputId": "2b35acc0-6a83-41cd-8cf2-40a797b42e90"
   },
   "outputs": [
    {
     "data": {
      "text/plain": [
       "1.0"
      ]
     },
     "execution_count": 76,
     "metadata": {},
     "output_type": "execute_result"
    }
   ],
   "source": [
    "# Creating a metric object \n",
    "m = Recall()\n",
    "\n",
    "# Calculating the recall value \n",
    "m.update_state(y_true, y_hat)\n",
    "\n",
    "# Return Recall Result\n",
    "m.result().numpy()"
   ]
  },
  {
   "cell_type": "code",
   "execution_count": 77,
   "metadata": {
    "colab": {
     "base_uri": "https://localhost:8080/"
    },
    "id": "3klfIUAUh-a3",
    "outputId": "ab34b0eb-8379-4812-8d91-c8c98c3ff1d8"
   },
   "outputs": [
    {
     "data": {
      "text/plain": [
       "0.9375"
      ]
     },
     "execution_count": 77,
     "metadata": {},
     "output_type": "execute_result"
    }
   ],
   "source": [
    "# Creating a metric object \n",
    "m = Precision()\n",
    "\n",
    "# Calculating the recall value \n",
    "m.update_state(y_true, y_hat)\n",
    "\n",
    "# Return Recall Result\n",
    "m.result().numpy()"
   ]
  },
  {
   "cell_type": "markdown",
   "metadata": {
    "id": "-MB1u_n8h-a4"
   },
   "source": [
    "## 6.4 Viz Results"
   ]
  },
  {
   "cell_type": "code",
   "execution_count": 78,
   "metadata": {
    "colab": {
     "base_uri": "https://localhost:8080/",
     "height": 203
    },
    "collapsed": true,
    "id": "IA4we-6Wh-a4",
    "outputId": "330de0a7-f5e4-45e7-dbf7-b338861c7782"
   },
   "outputs": [
    {
     "data": {
      "image/png": "[encoded data removed]",
      "text/plain": [
       "<Figure size 600x600 with 2 Axes>"
      ]
     },
     "metadata": {},
     "output_type": "display_data"
    }
   ],
   "source": [
    "# Set plot size \n",
    "plt.figure(figsize=(6,6))\n",
    "\n",
    "# Set first subplot\n",
    "plt.subplot(1,2,1)\n",
    "plt.imshow(test_input[0])\n",
    "\n",
    "# Set second subplot\n",
    "plt.subplot(1,2,2)\n",
    "plt.imshow(test_val[0])\n",
    "\n",
    "# Renders cleanly\n",
    "plt.show()"
   ]
  },
  {
   "cell_type": "markdown",
   "metadata": {
    "id": "gTrrpy_Rh-a4"
   },
   "source": [
    "# 7. Save Model"
   ]
  },
  {
   "cell_type": "code",
   "execution_count": 79,
   "metadata": {
    "id": "fWtorlp-h-a5"
   },
   "outputs": [
    {
     "name": "stderr",
     "output_type": "stream",
     "text": [
      "/home/avulasaikrishna/DL/face_det/lib/python3.11/site-packages/keras/src/engine/training.py:3079: UserWarning: You are saving your model as an HDF5 file via `model.save()`. This file format is considered legacy. We recommend using instead the native Keras format, e.g. `model.save('my_model.keras')`.\n",
      "  saving_api.save_model(\n"
     ]
    }
   ],
   "source": [
    "# Save weights\n",
    "model.save('SmartSense.h5')"
   ]
  },
  {
   "cell_type": "code",
   "execution_count": 40,
   "metadata": {
    "id": "OJSAHjnTec4W"
   },
   "outputs": [],
   "source": [
    "#tf.keras.models.save_model(model, 'final2000siamesemodel2.h5')"
   ]
  },
  {
   "cell_type": "code",
   "execution_count": 81,
   "metadata": {
    "id": "BKXjp80zh-a5"
   },
   "outputs": [],
   "source": [
    "# Reload model \n",
    " \n",
    "ld_model = tf.keras.models.load_model('SmartSense.h5', \n",
    "                                   custom_objects = {\"CustomModel\": CustomModel, \"DistanceLayer\": DistanceLayer})"
   ]
  },
  {
   "cell_type": "code",
   "execution_count": 82,
   "metadata": {
    "colab": {
     "base_uri": "https://localhost:8080/"
    },
    "id": "-VBGl-1wh-a6",
    "outputId": "6da4b6b7-702f-45a6-951d-6f46d8980103"
   },
   "outputs": [
    {
     "name": "stdout",
     "output_type": "stream",
     "text": [
      "1/1 [==============================] - 0s 300ms/step\n"
     ]
    },
    {
     "data": {
      "text/plain": [
       "array([[0.9919672 ],\n",
       "       [0.99942   ],\n",
       "       [0.99995404],\n",
       "       [0.99961436],\n",
       "       [0.85480964],\n",
       "       [0.994517  ],\n",
       "       [0.81718236],\n",
       "       [0.99889964],\n",
       "       [0.9997084 ],\n",
       "       [0.9184442 ],\n",
       "       [0.9999192 ],\n",
       "       [0.9998194 ],\n",
       "       [0.9999352 ],\n",
       "       [0.80713356],\n",
       "       [0.65938693],\n",
       "       [0.9999376 ]], dtype=float32)"
      ]
     },
     "execution_count": 82,
     "metadata": {},
     "output_type": "execute_result"
    }
   ],
   "source": [
    "# Make predictions with reloaded model\n",
    "ld_model.predict([test_input, test_val])"
   ]
  },
  {
   "cell_type": "code",
   "execution_count": 83,
   "metadata": {
    "colab": {
     "base_uri": "https://localhost:8080/"
    },
    "id": "wWiJS-FYh-a6",
    "outputId": "845b2b74-45d9-4d1c-b943-b867396f1477"
   },
   "outputs": [
    {
     "name": "stdout",
     "output_type": "stream",
     "text": [
      "Model: \"SiameseNetwork\"\n",
      "__________________________________________________________________________________________________\n",
      " Layer (type)                Output Shape                 Param #   Connected to                  \n",
      "==================================================================================================\n",
      " input_img (InputLayer)      [(None, 105, 105, 3)]        0         []                            \n",
      "                                                                                                  \n",
      " validation_img (InputLayer  [(None, 105, 105, 3)]        0         []                            \n",
      " )                                                                                                \n",
      "                                                                                                  \n",
      " embedding (CustomModel)     (None, 4096)                 3896044   ['input_img[0][0]',           \n",
      "                                                          8          'validation_img[0][0]']      \n",
      "                                                                                                  \n",
      " distance_layer_1 (Distance  (None, 4096)                 0         ['embedding[0][0]',           \n",
      " Layer)                                                              'embedding[1][0]']           \n",
      "                                                                                                  \n",
      " dense_2 (Dense)             (None, 1)                    4097      ['distance_layer_1[0][0]']    \n",
      "                                                                                                  \n",
      "==================================================================================================\n",
      "Total params: 38964545 (148.64 MB)\n",
      "Trainable params: 38964545 (148.64 MB)\n",
      "Non-trainable params: 0 (0.00 Byte)\n",
      "__________________________________________________________________________________________________\n"
     ]
    }
   ],
   "source": [
    "# View model summary\n",
    "ld_model.summary()"
   ]
  },
  {
   "cell_type": "markdown",
   "metadata": {
    "id": "7fP8Irt_h-a7"
   },
   "source": [
    "# 8. Real Time Test"
   ]
  },
  {
   "attachments": {
    "image.png": {
     "image/png": "[encoded data removed]"
    }
   },
   "cell_type": "markdown",
   "metadata": {},
   "source": [
    "![image.png](attachment:image.png)"
   ]
  },
  {
   "cell_type": "markdown",
   "metadata": {},
   "source": [
    "### 8.1 Verification Function"
   ]
  },
  {
   "cell_type": "code",
   "execution_count": 84,
   "metadata": {
    "id": "xdVfqeViZKEi"
   },
   "outputs": [],
   "source": [
    "def verify_image(model, detection_threshold, verification_threshold):\n",
    "    # Build results array\n",
    "    results = []\n",
    "    for image in os.listdir(os.path.join('application_data', 'verification_images')):\n",
    "        input_img = access_imgfiles_and_preprocess(os.path.join('application_data', 'input_image', 'input_image.jpg'))\n",
    "        validation_img = access_imgfiles_and_preprocess(os.path.join('application_data', 'verification_images', image))\n",
    "        \n",
    "        # Make Predictions \n",
    "        result = model.predict(list(np.expand_dims([input_img, validation_img], axis=1)))\n",
    "        results.append(result)\n",
    "    \n",
    "    # Detection Threshold: Metric above which a prediciton is considered positive \n",
    "    detection = np.sum(np.array(results) > detection_threshold)\n",
    "    \n",
    "    # Verification Threshold: Proportion of positive predictions / total positive samples \n",
    "    verification = detection / len(os.listdir(os.path.join('application_data', 'verification_images'))) \n",
    "    verified = verification > verification_threshold\n",
    "    \n",
    "    return results, verified"
   ]
  },
  {
   "cell_type": "code",
   "execution_count": 85,
   "metadata": {
    "colab": {
     "base_uri": "https://localhost:8080/"
    },
    "id": "m-GZ903UZTb4",
    "outputId": "018ed8fe-ed4c-4585-ce02-a2b64e940ba6"
   },
   "outputs": [
    {
     "ename": "FileNotFoundError",
     "evalue": "[Errno 2] No such file or directory: 'application_data/verification_images'",
     "output_type": "error",
     "traceback": [
      "\u001b[0;31m---------------------------------------------------------------------------\u001b[0m",
      "\u001b[0;31mFileNotFoundError\u001b[0m                         Traceback (most recent call last)",
      "\u001b[1;32m/home/avulasaikrishna/DL/training_notebook.ipynb Cell 95\u001b[0m line \u001b[0;36m1\n\u001b[0;32m----> <a href='vscode-notebook-cell://ssh-remote%2Bhamilton.iitgn.ac.in/home/avulasaikrishna/DL/training_notebook.ipynb#Y201sdnNjb2RlLXJlbW90ZQ%3D%3D?line=0'>1</a>\u001b[0m results, verified \u001b[39m=\u001b[39m verify_image(ld_model, \u001b[39m0.5\u001b[39;49m, \u001b[39m0.5\u001b[39;49m)\n\u001b[1;32m      <a href='vscode-notebook-cell://ssh-remote%2Bhamilton.iitgn.ac.in/home/avulasaikrishna/DL/training_notebook.ipynb#Y201sdnNjb2RlLXJlbW90ZQ%3D%3D?line=1'>2</a>\u001b[0m verified\n",
      "\u001b[1;32m/home/avulasaikrishna/DL/training_notebook.ipynb Cell 95\u001b[0m line \u001b[0;36m4\n\u001b[1;32m      <a href='vscode-notebook-cell://ssh-remote%2Bhamilton.iitgn.ac.in/home/avulasaikrishna/DL/training_notebook.ipynb#Y201sdnNjb2RlLXJlbW90ZQ%3D%3D?line=0'>1</a>\u001b[0m \u001b[39mdef\u001b[39;00m \u001b[39mverify_image\u001b[39m(model, detection_threshold, verification_threshold):\n\u001b[1;32m      <a href='vscode-notebook-cell://ssh-remote%2Bhamilton.iitgn.ac.in/home/avulasaikrishna/DL/training_notebook.ipynb#Y201sdnNjb2RlLXJlbW90ZQ%3D%3D?line=1'>2</a>\u001b[0m     \u001b[39m# Build results array\u001b[39;00m\n\u001b[1;32m      <a href='vscode-notebook-cell://ssh-remote%2Bhamilton.iitgn.ac.in/home/avulasaikrishna/DL/training_notebook.ipynb#Y201sdnNjb2RlLXJlbW90ZQ%3D%3D?line=2'>3</a>\u001b[0m     results \u001b[39m=\u001b[39m []\n\u001b[0;32m----> <a href='vscode-notebook-cell://ssh-remote%2Bhamilton.iitgn.ac.in/home/avulasaikrishna/DL/training_notebook.ipynb#Y201sdnNjb2RlLXJlbW90ZQ%3D%3D?line=3'>4</a>\u001b[0m     \u001b[39mfor\u001b[39;00m image \u001b[39min\u001b[39;00m os\u001b[39m.\u001b[39;49mlistdir(os\u001b[39m.\u001b[39;49mpath\u001b[39m.\u001b[39;49mjoin(\u001b[39m'\u001b[39;49m\u001b[39mapplication_data\u001b[39;49m\u001b[39m'\u001b[39;49m, \u001b[39m'\u001b[39;49m\u001b[39mverification_images\u001b[39;49m\u001b[39m'\u001b[39;49m)):\n\u001b[1;32m      <a href='vscode-notebook-cell://ssh-remote%2Bhamilton.iitgn.ac.in/home/avulasaikrishna/DL/training_notebook.ipynb#Y201sdnNjb2RlLXJlbW90ZQ%3D%3D?line=4'>5</a>\u001b[0m         input_img \u001b[39m=\u001b[39m access_imgfiles_and_preprocess(os\u001b[39m.\u001b[39mpath\u001b[39m.\u001b[39mjoin(\u001b[39m'\u001b[39m\u001b[39mapplication_data\u001b[39m\u001b[39m'\u001b[39m, \u001b[39m'\u001b[39m\u001b[39minput_image\u001b[39m\u001b[39m'\u001b[39m, \u001b[39m'\u001b[39m\u001b[39minput_image.jpg\u001b[39m\u001b[39m'\u001b[39m))\n\u001b[1;32m      <a href='vscode-notebook-cell://ssh-remote%2Bhamilton.iitgn.ac.in/home/avulasaikrishna/DL/training_notebook.ipynb#Y201sdnNjb2RlLXJlbW90ZQ%3D%3D?line=5'>6</a>\u001b[0m         validation_img \u001b[39m=\u001b[39m access_imgfiles_and_preprocess(os\u001b[39m.\u001b[39mpath\u001b[39m.\u001b[39mjoin(\u001b[39m'\u001b[39m\u001b[39mapplication_data\u001b[39m\u001b[39m'\u001b[39m, \u001b[39m'\u001b[39m\u001b[39mverification_images\u001b[39m\u001b[39m'\u001b[39m, image))\n",
      "\u001b[0;31mFileNotFoundError\u001b[0m: [Errno 2] No such file or directory: 'application_data/verification_images'"
     ]
    }
   ],
   "source": [
    "results, verified = verify_image(ld_model, 0.5, 0.5)\n",
    "verified"
   ]
  },
  {
   "cell_type": "markdown",
   "metadata": {
    "id": "dcc0sxslh-a-"
   },
   "source": [
    "## 8.2 OpenCV Real Time Verification"
   ]
  },
  {
   "cell_type": "code",
   "execution_count": 87,
   "metadata": {
    "id": "svs305Pgh-a_",
    "outputId": "058513c7-6074-4e80-e68d-5512eb126604"
   },
   "outputs": [
    {
     "name": "stderr",
     "output_type": "stream",
     "text": [
      "[ WARN:0@3324.877] global cap_v4l.cpp:982 open VIDEOIO(V4L2:/dev/video0): can't open camera by index\n",
      "[ERROR:0@3324.877] global obsensor_uvc_stream_channel.cpp:156 getStreamChannelGroup Camera index out of range\n"
     ]
    }
   ],
   "source": [
    "cap = cv2.VideoCapture(0)\n",
    "while cap.isOpened():\n",
    "    ret, frame = cap.read()\n",
    "    frame = frame[120:120+250,200:200+250, :]\n",
    "    \n",
    "    cv2.imshow('Verification', frame)\n",
    "    \n",
    "    # Verification trigger\n",
    "    if cv2.waitKey(10) & 0xFF == ord('v'):\n",
    "        # Save input image to application_data/input_image folder \n",
    "        cv2.imwrite(os.path.join('application_data', 'input_image', 'input_image.jpg'), frame)\n",
    "        # Run verification\n",
    "        results, verified = verify_image(model, 0.9, 0.7)\n",
    "        print(verified)\n",
    "    \n",
    "    if cv2.waitKey(10) & 0xFF == ord('q'):\n",
    "        break\n",
    "cap.release()\n",
    "cv2.destroyAllWindows()"
   ]
  },
  {
   "attachments": {
    "image.png": {
     "image/png": "[encoded data removed]"
    }
   },
   "cell_type": "markdown",
   "metadata": {},
   "source": [
    "![image.png](attachment:image.png)"
   ]
  }
 ],
 "metadata": {
  "accelerator": "GPU",
  "colab": {
   "collapsed_sections": [],
   "provenance": []
  },
  "gpuClass": "standard",
  "kernelspec": {
   "display_name": "Python 3",
   "language": "python",
   "name": "python3"
  },
  "language_info": {
   "codemirror_mode": {
    "name": "ipython",
    "version": 3
   },
   "file_extension": ".py",
   "mimetype": "text/x-python",
   "name": "python",
   "nbconvert_exporter": "python",
   "pygments_lexer": "ipython3",
   "version": "3.11.5"
  }
 },
 "nbformat": 4,
 "nbformat_minor": 1
}
